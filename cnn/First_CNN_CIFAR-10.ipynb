{
 "cells": [
  {
   "cell_type": "markdown",
   "metadata": {},
   "source": [
    "## 將所有需要的套件與函數 import 至目前的環境中 \n",
    "若沒有執行下面這段 code，等等使用 function 就會看到 Name Error"
   ]
  },
  {
   "cell_type": "code",
   "execution_count": 32,
   "metadata": {},
   "outputs": [],
   "source": [
    "# libraries & packages\n",
    "%matplotlib inline\n",
    "import keras\n",
    "from keras.datasets import cifar10\n",
    "import numpy\n",
    "import math\n",
    "import sys\n",
    "import matplotlib.pyplot as plt\n",
    "\n",
    "from keras.models import Sequential\n",
    "from keras.datasets import cifar10\n",
    "from keras.layers import Dense, Dropout, Activation, Flatten, Convolution2D, MaxPooling2D\n",
    "from keras.optimizers import SGD\n",
    "from keras.utils import to_categorical"
   ]
  },
  {
   "cell_type": "markdown",
   "metadata": {},
   "source": [
    "## 讀取 CIFAR-10 資料集\n",
    "檔案分為 train 訓練集、test 測試集，X 是圖片且 shape = (32x32x3)，Y 是 label 且是個一維的向量"
   ]
  },
  {
   "cell_type": "code",
   "execution_count": 33,
   "metadata": {},
   "outputs": [
    {
     "name": "stdout",
     "output_type": "stream",
     "text": [
      "x_train shape: (50000, 32, 32, 3)\n",
      "y_train shape: (50000, 1)\n",
      "50000 train samples\n",
      "10000 test samples\n"
     ]
    }
   ],
   "source": [
    "from keras.datasets import cifar10\n",
    "# The data, shuffled and split between train and test sets:\n",
    "(x_train, y_train), (x_test, y_test) = cifar10.load_data()\n",
    "print('x_train shape:', x_train.shape)\n",
    "print('y_train shape:', y_train.shape)\n",
    "\n",
    "print(x_train.shape[0], 'train samples')\n",
    "print(x_test.shape[0], 'test samples')"
   ]
  },
  {
   "cell_type": "markdown",
   "metadata": {},
   "source": [
    "## 觀察資料集"
   ]
  },
  {
   "cell_type": "code",
   "execution_count": 34,
   "metadata": {},
   "outputs": [
    {
     "data": {
      "image/png": "[encoded data removed]",
      "text/plain": [
       "<matplotlib.figure.Figure at 0x7f7460b4a080>"
      ]
     },
     "metadata": {},
     "output_type": "display_data"
    }
   ],
   "source": [
    "import matplotlib.pyplot as plt\n",
    "# show the first image of training data\n",
    "plt.imshow(x_train[0])\n",
    "plt.show()"
   ]
  },
  {
   "cell_type": "code",
   "execution_count": 35,
   "metadata": {},
   "outputs": [
    {
     "data": {
      "image/png": "[encoded data removed]",
      "text/plain": [
       "<matplotlib.figure.Figure at 0x7f7457844668>"
      ]
     },
     "metadata": {},
     "output_type": "display_data"
    }
   ],
   "source": [
    "import matplotlib.pyplot as plt\n",
    "# show the first image of testing data\n",
    "plt.imshow(x_test[0])\n",
    "plt.show()"
   ]
  },
  {
   "cell_type": "markdown",
   "metadata": {},
   "source": [
    "印出前五個 training data 的 label，分別是 frog, truck, truck, deer, automobile"
   ]
  },
  {
   "cell_type": "code",
   "execution_count": 36,
   "metadata": {},
   "outputs": [
    {
     "data": {
      "text/plain": [
       "array([[6],\n",
       "       [9],\n",
       "       [9],\n",
       "       [4],\n",
       "       [1]], dtype=uint8)"
      ]
     },
     "execution_count": 36,
     "metadata": {},
     "output_type": "execute_result"
    }
   ],
   "source": [
    "y_train[:5]"
   ]
  },
  {
   "cell_type": "markdown",
   "metadata": {},
   "source": [
    "## 將數字 label 轉為 one hot encoding"
   ]
  },
  {
   "cell_type": "code",
   "execution_count": 37,
   "metadata": {},
   "outputs": [
    {
     "name": "stdout",
     "output_type": "stream",
     "text": [
      "shape before one hot encoding:  (50000, 1)\n",
      "shape after one hot encoding:  (50000, 10)\n"
     ]
    }
   ],
   "source": [
    "from keras.utils import to_categorical\n",
    "num_classes = 10\n",
    "print(\"shape before one hot encoding: \", y_train.shape)\n",
    "y_train = to_categorical(y_train, num_classes)\n",
    "y_test = to_categorical(y_test, num_classes)\n",
    "print(\"shape after one hot encoding: \", y_train.shape)"
   ]
  },
  {
   "cell_type": "markdown",
   "metadata": {},
   "source": [
    "## 建立 CNN 的 model\n",
    "1. 先做了兩次 convolution，filters=32, filter size=3x3, stride=1, 第一次 convolution 使用 zero padding，第二次不使用。\n",
    "2. 做了一次 MaxPooling，pooling size=2x2\n",
    "3. 隨機 dropout 25% 的 weights\n",
    "4. 攤平所有的 feature maps，變成一維的向量\n",
    "5. 接上 512 個 nuerons 的 DNN\n",
    "6. 隨機 dropout 50% 的 weights\n",
    "7. 最後接上 10 個 nuerons，而這十個 nuerons 經過 softmax 後，就是 Cifar-10 十個 label 的 prediction "
   ]
  },
  {
   "cell_type": "code",
   "execution_count": 8,
   "metadata": {},
   "outputs": [
    {
     "name": "stdout",
     "output_type": "stream",
     "text": [
      "_________________________________________________________________\n",
      "Layer (type)                 Output Shape              Param #   \n",
      "=================================================================\n",
      "conv2d_1 (Conv2D)            (None, 32, 32, 32)        896       \n",
      "_________________________________________________________________\n",
      "activation_1 (Activation)    (None, 32, 32, 32)        0         \n",
      "_________________________________________________________________\n",
      "conv2d_2 (Conv2D)            (None, 30, 30, 32)        9248      \n",
      "_________________________________________________________________\n",
      "activation_2 (Activation)    (None, 30, 30, 32)        0         \n",
      "_________________________________________________________________\n",
      "max_pooling2d_1 (MaxPooling2 (None, 15, 15, 32)        0         \n",
      "_________________________________________________________________\n",
      "dropout_1 (Dropout)          (None, 15, 15, 32)        0         \n",
      "_________________________________________________________________\n",
      "flatten_1 (Flatten)          (None, 7200)              0         \n",
      "_________________________________________________________________\n",
      "dense_1 (Dense)              (None, 512)               3686912   \n",
      "_________________________________________________________________\n",
      "activation_3 (Activation)    (None, 512)               0         \n",
      "_________________________________________________________________\n",
      "dropout_2 (Dropout)          (None, 512)               0         \n",
      "_________________________________________________________________\n",
      "dense_2 (Dense)              (None, 10)                5130      \n",
      "_________________________________________________________________\n",
      "activation_4 (Activation)    (None, 10)                0         \n",
      "=================================================================\n",
      "Total params: 3,702,186\n",
      "Trainable params: 3,702,186\n",
      "Non-trainable params: 0\n",
      "_________________________________________________________________\n"
     ]
    }
   ],
   "source": [
    "from keras.layers import Dense, Dropout, Activation, Flatten, Convolution2D, MaxPooling2D\n",
    "\n",
    "model = Sequential()\n",
    "# first convolution & maxpooling\n",
    "\n",
    "# Convolutaion layer\n",
    "model.add(Convolution2D(filters=32, kernel_size=(3, 3), strides=1, padding=\"same\", input_shape=x_train[0].shape))\n",
    "# Activation layer\n",
    "model.add(Activation('relu'))\n",
    "# Convolutaion layer\n",
    "model.add(Convolution2D(filters=32, kernel_size=(3, 3), strides=1))\n",
    "# Activation layer\n",
    "model.add(Activation('relu'))\n",
    "# Pooling Layer\n",
    "model.add(MaxPooling2D(pool_size=(2, 2)))\n",
    "model.add(Dropout(0.25))\n",
    "\n",
    "# 請建立更多的 convolution layers，並嘗試調整 filter 數量或其他參數\n",
    "\n",
    "#--- your codes here ---\n",
    "\n",
    "#--- your codes here ---\n",
    "\n",
    "# connetct to DNN and use soft max to make prediction\n",
    "# Flatten layer\n",
    "model.add(Flatten())\n",
    "# Dense Layer\n",
    "model.add(Dense(512))\n",
    "# Activation Layer\n",
    "model.add(Activation('relu'))\n",
    "model.add(Dropout(0.5))\n",
    "model.add(Dense(10))\n",
    "model.add(Activation('softmax'))\n",
    "\n",
    "model.summary()"
   ]
  },
  {
   "cell_type": "markdown",
   "metadata": {},
   "source": [
    "## 使用 Adam 做為 Optimizer \n",
    "設定 learning_rate = 0.00017，loss 使用 categorical cross-entropy，評估 model 的表現指標使用 accuracy，並 compile model"
   ]
  },
  {
   "cell_type": "code",
   "execution_count": 9,
   "metadata": {},
   "outputs": [],
   "source": [
    "from keras.optimizers import Adam\n",
    "\n",
    "learning_rate = 0.00017\n",
    "optimizer = Adam(lr=learning_rate)\n",
    "model.compile(loss='categorical_crossentropy', optimizer=optimizer, metrics=['accuracy'])"
   ]
  },
  {
   "cell_type": "markdown",
   "metadata": {},
   "source": [
    "## 設定 batch size, epochs 及資料前處理\n",
    "設定 batch size = 32, 跑 10 個 epoch (看完所有資料 10 次)，並將圖片 data 都 recale 到 0 ~ 1 之間\n"
   ]
  },
  {
   "cell_type": "code",
   "execution_count": 10,
   "metadata": {
    "collapsed": true
   },
   "outputs": [],
   "source": [
    "batch_size = 32\n",
    "epochs = 10\n",
    "\n",
    "x_train = x_train.astype('float32')\n",
    "x_test = x_test.astype('float32')\n",
    "x_train /= 255\n",
    "x_test /= 255"
   ]
  },
  {
   "cell_type": "markdown",
   "metadata": {},
   "source": [
    "## 開始訓練!!\n",
    "將 trainging data fit 進 model 中，設定 batch size 及 epoch，設定 validation data，跑完一個 epoch 會自動計算 validaiton data 的 performance，training 的過程會 shuffle data，訓練完後將 model 的訓練過程存到 model_history 這個變數"
   ]
  },
  {
   "cell_type": "code",
   "execution_count": 11,
   "metadata": {},
   "outputs": [
    {
     "name": "stdout",
     "output_type": "stream",
     "text": [
      "Train on 50000 samples, validate on 10000 samples\n",
      "Epoch 1/10\n",
      "50000/50000 [==============================] - 12s - loss: 1.5817 - acc: 0.4303 - val_loss: 1.2772 - val_acc: 0.5460\n",
      "Epoch 2/10\n",
      "50000/50000 [==============================] - 10s - loss: 1.2436 - acc: 0.5610 - val_loss: 1.1217 - val_acc: 0.6017\n",
      "Epoch 3/10\n",
      "50000/50000 [==============================] - 10s - loss: 1.1110 - acc: 0.6065 - val_loss: 1.0381 - val_acc: 0.6401\n",
      "Epoch 4/10\n",
      "50000/50000 [==============================] - 10s - loss: 1.0131 - acc: 0.6430 - val_loss: 0.9707 - val_acc: 0.6603\n",
      "Epoch 5/10\n",
      "50000/50000 [==============================] - 10s - loss: 0.9418 - acc: 0.6686 - val_loss: 0.9323 - val_acc: 0.6724\n",
      "Epoch 6/10\n",
      "50000/50000 [==============================] - 10s - loss: 0.8828 - acc: 0.6885 - val_loss: 0.9069 - val_acc: 0.6875\n",
      "Epoch 7/10\n",
      "50000/50000 [==============================] - 10s - loss: 0.8232 - acc: 0.7131 - val_loss: 0.8719 - val_acc: 0.6964\n",
      "Epoch 8/10\n",
      "50000/50000 [==============================] - 10s - loss: 0.7732 - acc: 0.7286 - val_loss: 0.8617 - val_acc: 0.7037\n",
      "Epoch 9/10\n",
      "50000/50000 [==============================] - 10s - loss: 0.7257 - acc: 0.7456 - val_loss: 0.8473 - val_acc: 0.7056\n",
      "Epoch 10/10\n",
      "50000/50000 [==============================] - 10s - loss: 0.6819 - acc: 0.7604 - val_loss: 0.8253 - val_acc: 0.7152\n"
     ]
    }
   ],
   "source": [
    "model_history = model.fit(x_train, y_train,\n",
    "          batch_size=batch_size,\n",
    "          epochs=epochs,\n",
    "          validation_data=(x_test, y_test),\n",
    "          shuffle=True)"
   ]
  },
  {
   "cell_type": "markdown",
   "metadata": {},
   "source": [
    "## 畫出訓練過程的 learning curve"
   ]
  },
  {
   "cell_type": "code",
   "execution_count": 43,
   "metadata": {},
   "outputs": [
    {
     "data": {
      "image/png": "[encoded data removed]",
      "text/plain": [
       "<matplotlib.figure.Figure at 0x7f74570665f8>"
      ]
     },
     "metadata": {},
     "output_type": "display_data"
    }
   ],
   "source": [
    "import matplotlib.pyplot as plt\n",
    "\n",
    "plt.figure(figsize=(12,5))\n",
    "training_loss = model_history.history['loss']\n",
    "testing_loss = model_history.history['val_loss']\n",
    "training_acc = model_history.history['acc']\n",
    "testing_acc = model_history.history['val_acc']\n",
    "\n",
    "plt.subplot(121)\n",
    "plt.plot(training_loss, label=\"training_loss\")\n",
    "plt.plot(testing_loss, label=\"validation_loss\")\n",
    "plt.xlabel(\"Epochs\")\n",
    "plt.ylabel(\"Loss\")\n",
    "plt.title(\"Learning Curve\")\n",
    "plt.legend(loc='best')\n",
    "\n",
    "plt.subplot(122)\n",
    "\n",
    "plt.plot(training_acc, label=\"training_accuracy\")\n",
    "plt.plot(testing_acc, label=\"validation_accuracy\")\n",
    "plt.xlabel(\"Epochs\")\n",
    "plt.ylabel(\"Accuracy\")\n",
    "plt.title(\"Learning Curve\")\n",
    "plt.legend(loc='best')\n",
    "\n",
    "plt.show()"
   ]
  },
  {
   "cell_type": "markdown",
   "metadata": {},
   "source": [
    "## 將訓練完的 model 進行儲存、讀取與用來預測"
   ]
  },
  {
   "cell_type": "code",
   "execution_count": 24,
   "metadata": {},
   "outputs": [
    {
     "name": "stdout",
     "output_type": "stream",
     "text": [
      " 9664/10000 [===========================>..] - ETA: 0s"
     ]
    }
   ],
   "source": [
    "from keras.models import load_model\n",
    "\n",
    "model.save(\"first_cnn_cifar10.h5\")\n",
    "del model\n",
    "model = load_model(\"first_cnn_cifar10.h5\")\n",
    "y_pred = model.predict_classes(x_test, verbose=1)"
   ]
  },
  {
   "cell_type": "code",
   "execution_count": 25,
   "metadata": {},
   "outputs": [
    {
     "name": "stdout",
     "output_type": "stream",
     "text": [
      "[3 8 8 ..., 5 1 7]\n"
     ]
    }
   ],
   "source": [
    "print(y_pred)"
   ]
  }
 ],
 "metadata": {
  "kernelspec": {
   "display_name": "Python 3",
   "language": "python",
   "name": "python3"
  },
  "language_info": {
   "codemirror_mode": {
    "name": "ipython",
    "version": 3
   },
   "file_extension": ".py",
   "mimetype": "text/x-python",
   "name": "python",
   "nbconvert_exporter": "python",
   "pygments_lexer": "ipython3",
   "version": "3.5.2"
  }
 },
 "nbformat": 4,
 "nbformat_minor": 2
}
